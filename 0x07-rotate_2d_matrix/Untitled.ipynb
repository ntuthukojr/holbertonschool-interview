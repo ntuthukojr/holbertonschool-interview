{
 "cells": [
  {
   "cell_type": "code",
   "execution_count": 2,
   "metadata": {},
   "outputs": [
    {
     "name": "stdout",
     "output_type": "stream",
     "text": [
      "[[7, 4, 1], [8, 5, 2], [9, 6, 3]]\n"
     ]
    }
   ],
   "source": [
    "#!/usr/bin/python3\n",
    "\"\"\"\n",
    "0x16 - Rotate 2D Matrix\n",
    "\"\"\"\n",
    "\n",
    "\n",
    "def copyMat(matrix):\n",
    "    \"\"\"\n",
    "    *********************************\n",
    "    ***********Copy Matrix***********\n",
    "    *********************************\n",
    "    @matrix: a 2D Matrix of type list\n",
    "    returns:\n",
    "            a copy of a given matrix\n",
    "    \"\"\"\n",
    "    ln = len(matrix)\n",
    "    m = []\n",
    "    for i in range(ln):\n",
    "        d = []\n",
    "        for j in range(ln):\n",
    "            d.append(matrix[i][j])\n",
    "        m.append(d)\n",
    "    return m\n",
    "\n",
    "\n",
    "def rotate_2d_matrix(matrix):\n",
    "    \"\"\"\n",
    "    ****************************************\n",
    "    ***rotate Matrix 90 degrees clockwise***\n",
    "    ****************************************\n",
    "    @matrix: n x n 2D Matrix of type list\n",
    "    returns:\n",
    "            Nothing\n",
    "    \"\"\"\n",
    "    ln = len(matrix)\n",
    "    m = copyMat(matrix)\n",
    "    for i in range(ln):\n",
    "        for j in range(ln):\n",
    "            matrix[j][ln-1-i] = m[i][j]\n",
    "\n",
    "\n",
    "matrix = [[1, 2, 3],\n",
    "          [4, 5, 6],\n",
    "          [7, 8, 9]]\n",
    "res = [[7, 4, 1],\n",
    "       [8, 5, 2],\n",
    "       [9, 6, 3]]\n",
    "#matrix =  [[1, 2, 3, 4, 5], [6, 7, 8, 9, 10], [11, 12, 13, 14, 15], [16, 17, 18, 19, 20], [21, 22, 23, 24, 25]]\n",
    "rotate_2d_matrix(matrix)\n",
    "print(matrix)"
   ]
  },
  {
   "cell_type": "code",
   "execution_count": null,
   "metadata": {},
   "outputs": [],
   "source": [
    "[[7, 4, 1], [8, 5, 2],[9, 6, 3]]"
   ]
  }
 ],
 "metadata": {
  "kernelspec": {
   "display_name": "Python 3",
   "language": "python",
   "name": "python3"
  },
  "language_info": {
   "codemirror_mode": {
    "name": "ipython",
    "version": 3
   },
   "file_extension": ".py",
   "mimetype": "text/x-python",
   "name": "python",
   "nbconvert_exporter": "python",
   "pygments_lexer": "ipython3",
   "version": "3.6.13"
  }
 },
 "nbformat": 4,
 "nbformat_minor": 4
}
